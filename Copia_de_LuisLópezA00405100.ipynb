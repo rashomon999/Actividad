{
  "nbformat": 4,
  "nbformat_minor": 0,
  "metadata": {
    "colab": {
      "provenance": [],
      "authorship_tag": "ABX9TyOintq5YidwrI4BnEY+xtQ9",
      "include_colab_link": true
    },
    "kernelspec": {
      "name": "python3",
      "display_name": "Python 3"
    },
    "language_info": {
      "name": "python"
    }
  },
  "cells": [
    {
      "cell_type": "markdown",
      "metadata": {
        "id": "view-in-github",
        "colab_type": "text"
      },
      "source": [
        "<a href=\"https://colab.research.google.com/github/rashomon999/Actividad/blob/main/Copia_de_LuisL%C3%B3pezA00405100.ipynb\" target=\"_parent\"><img src=\"https://colab.research.google.com/assets/colab-badge.svg\" alt=\"Open In Colab\"/></a>"
      ]
    },
    {
      "cell_type": "markdown",
      "source": [
        "# Luis Gabriel López Sánchez\n",
        "## Un poco sobre mi:\n",
        "\n",
        "https://colab.research.google.com/drive/1pSngu4TDSW_T49bTReI3rGuQ_9uFs_eK"
      ],
      "metadata": {
        "id": "mV5R8xvk67Pu"
      }
    },
    {
      "cell_type": "markdown",
      "source": [
        "\n",
        "Mi nombre es Luis Gabriel López Sánchez, nací en Cali, Colombia, y tengo 19 años. Desde pequeño, siempre he tenido una gran pasión por la tecnología y el cine. Me encanta mirar películas de diversos géneros, desde dramas hasta comedias y ciencia ficción. Además, disfruto mucho programar; encuentro fascinante cómo el código puede crear soluciones innovadoras y resolver problemas complejos. En mi tiempo libre, me gusta jugar fútbol, un deporte que me ha enseñado tanto sobre trabajo en equipo como sobre disciplina y perseverancia. Vivo con mis padres y mi hermano, quienes siempre me han apoyado en todos mis intereses y metas. Valoro mucho el tiempo en familia, ya que nos permite compartir momentos especiales y apoyarnos mutuamente en nuestras respectivas actividades. Mi entorno familiar es muy importante para mí y me ha ayudado a desarrollar una actitud positiva hacia la vida y mis estudios."
      ],
      "metadata": {
        "id": "lvcovlKlogVK"
      }
    },
    {
      "cell_type": "markdown",
      "source": [
        "  <img src=\"https://t4.ftcdn.net/jpg/05/24/54/93/360_F_524549317_Yypfe66fwW8yborwNjPbsfeERk1EH1l3.jpg\" width=\"500\" height=\"300\">\n"
      ],
      "metadata": {
        "id": "X4GgqvM_v2lK"
      }
    },
    {
      "cell_type": "markdown",
      "source": [
        "* Algum ritmo\n",
        "  * osé Gil, Francisco Gil, João Gi  \n",
        "* Un millon de primaveras\n",
        "  * Compositor: Jose Sebastian\n",
        "    * Artista: Vicente Fernandez\n",
        "* Cama e mesa\n",
        "  * Artista y compositor: Roberto Carlos\n",
        "* La cama vacia\n",
        "  * compositor: Carlos Espaventa\n",
        "    * Artista: oscar agudelo\n",
        "* Interestellar\n",
        "  * Artista y compositor: Hanz Zimmer"
      ],
      "metadata": {
        "id": "tYaNQny5sTgO"
      }
    },
    {
      "cell_type": "markdown",
      "source": [],
      "metadata": {
        "id": "p4O3D9Otf5-4"
      }
    }
  ]
}
